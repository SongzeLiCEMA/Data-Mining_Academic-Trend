{
 "cells": [
  {
   "cell_type": "markdown",
   "metadata": {},
   "source": [
    "# 任务3：论文代码统计"
   ]
  },
  {
   "cell_type": "markdown",
   "metadata": {},
   "source": [
    "## 任务说明"
   ]
  },
  {
   "cell_type": "markdown",
   "metadata": {},
   "source": [
    "本次任务的主要内容是：是用正则表达式统计代码链接、页数和图表数据。"
   ]
  },
  {
   "cell_type": "markdown",
   "metadata": {},
   "source": [
    "## 具体代码实现"
   ]
  },
  {
   "cell_type": "markdown",
   "metadata": {},
   "source": [
    "### 数据读取"
   ]
  },
  {
   "cell_type": "code",
   "execution_count": 1,
   "metadata": {
    "ExecuteTime": {
     "end_time": "2021-01-19T16:19:19.497800Z",
     "start_time": "2021-01-19T16:19:17.719059Z"
    }
   },
   "outputs": [
    {
     "name": "stderr",
     "output_type": "stream",
     "text": [
      "C:\\Users\\LWKM\\Anaconda3\\lib\\site-packages\\statsmodels\\tools\\_testing.py:19: FutureWarning: pandas.util.testing is deprecated. Use the functions in the public API at pandas.testing instead.\n",
      "  import pandas.util.testing as tm\n"
     ]
    }
   ],
   "source": [
    "# 导入所需的package\n",
    "import seaborn as sns #用于画图\n",
    "from bs4 import BeautifulSoup #用于爬取arxiv的数据\n",
    "import re #用于正则表达式，匹配字符串的模式\n",
    "import requests #用于网络连接，发送网络请求，使用域名获取对应信息\n",
    "import json #读取数据，我们的数据为json格式的\n",
    "import pandas as pd #数据处理，数据分析\n",
    "import matplotlib.pyplot as plt #画图工具"
   ]
  },
  {
   "cell_type": "code",
   "execution_count": 2,
   "metadata": {
    "ExecuteTime": {
     "end_time": "2021-01-19T16:20:01.454360Z",
     "start_time": "2021-01-19T16:19:19.499786Z"
    }
   },
   "outputs": [],
   "source": [
    "def readArxivFile(path, columns=['id', 'submitter', 'authors', 'title', 'comments', 'journal-ref', 'doi',\n",
    "       'report-no', 'categories', 'license', 'abstract', 'versions',\n",
    "       'update_date', 'authors_parsed'], count=None):\n",
    "    '''\n",
    "    定义读取文件的函数\n",
    "        path: 文件路径\n",
    "        columns: 需要选择的列\n",
    "        count: 读取行数\n",
    "    '''\n",
    "    \n",
    "    data  = []\n",
    "    with open(path, 'r') as f: \n",
    "        for idx, line in enumerate(f): \n",
    "            if idx == count:\n",
    "                break\n",
    "                \n",
    "            d = json.loads(line)\n",
    "            d = {col : d[col] for col in columns}\n",
    "            data.append(d)\n",
    "\n",
    "    data = pd.DataFrame(data)\n",
    "    return data\n",
    "\n",
    "# 读取本次任务需要的列\n",
    "data = readArxivFile('arxiv-metadata-oai-snapshot.json', ['id', 'abstract', 'categories', 'comments'])"
   ]
  },
  {
   "cell_type": "code",
   "execution_count": 3,
   "metadata": {
    "ExecuteTime": {
     "end_time": "2021-01-19T16:20:01.567537Z",
     "start_time": "2021-01-19T16:20:01.456355Z"
    }
   },
   "outputs": [
    {
     "data": {
      "text/html": [
       "<div>\n",
       "<style scoped>\n",
       "    .dataframe tbody tr th:only-of-type {\n",
       "        vertical-align: middle;\n",
       "    }\n",
       "\n",
       "    .dataframe tbody tr th {\n",
       "        vertical-align: top;\n",
       "    }\n",
       "\n",
       "    .dataframe thead th {\n",
       "        text-align: right;\n",
       "    }\n",
       "</style>\n",
       "<table border=\"1\" class=\"dataframe\">\n",
       "  <thead>\n",
       "    <tr style=\"text-align: right;\">\n",
       "      <th></th>\n",
       "      <th>id</th>\n",
       "      <th>abstract</th>\n",
       "      <th>categories</th>\n",
       "      <th>comments</th>\n",
       "    </tr>\n",
       "  </thead>\n",
       "  <tbody>\n",
       "    <tr>\n",
       "      <th>1173719</th>\n",
       "      <td>1909.03681</td>\n",
       "      <td>High-dimensional data poses unique challenge...</td>\n",
       "      <td>cs.LG cs.AI stat.ML</td>\n",
       "      <td>None</td>\n",
       "    </tr>\n",
       "    <tr>\n",
       "      <th>649547</th>\n",
       "      <td>1508.02891</td>\n",
       "      <td>We investigate an electroweak interacting da...</td>\n",
       "      <td>hep-ph</td>\n",
       "      <td>17 pages, 6 figures. v2: references added; v3:...</td>\n",
       "    </tr>\n",
       "    <tr>\n",
       "      <th>1051110</th>\n",
       "      <td>1811.06477</td>\n",
       "      <td>Language models, being at the heart of many ...</td>\n",
       "      <td>cs.NE cs.CL cs.LG</td>\n",
       "      <td>7 pages including 5 figures</td>\n",
       "    </tr>\n",
       "    <tr>\n",
       "      <th>87235</th>\n",
       "      <td>0810.1656</td>\n",
       "      <td>We use a new method to trace backwards the s...</td>\n",
       "      <td>astro-ph</td>\n",
       "      <td>7 pages, 5 figures, accepted by Astron. J</td>\n",
       "    </tr>\n",
       "    <tr>\n",
       "      <th>803005</th>\n",
       "      <td>1612.07196</td>\n",
       "      <td>We observe interspecies Feshbach resonances ...</td>\n",
       "      <td>cond-mat.quant-gas physics.atom-ph</td>\n",
       "      <td>16 pages, 8 figures</td>\n",
       "    </tr>\n",
       "  </tbody>\n",
       "</table>\n",
       "</div>"
      ],
      "text/plain": [
       "                 id                                           abstract  \\\n",
       "1173719  1909.03681    High-dimensional data poses unique challenge...   \n",
       "649547   1508.02891    We investigate an electroweak interacting da...   \n",
       "1051110  1811.06477    Language models, being at the heart of many ...   \n",
       "87235     0810.1656    We use a new method to trace backwards the s...   \n",
       "803005   1612.07196    We observe interspecies Feshbach resonances ...   \n",
       "\n",
       "                                 categories  \\\n",
       "1173719                 cs.LG cs.AI stat.ML   \n",
       "649547                               hep-ph   \n",
       "1051110                   cs.NE cs.CL cs.LG   \n",
       "87235                              astro-ph   \n",
       "803005   cond-mat.quant-gas physics.atom-ph   \n",
       "\n",
       "                                                  comments  \n",
       "1173719                                               None  \n",
       "649547   17 pages, 6 figures. v2: references added; v3:...  \n",
       "1051110                        7 pages including 5 figures  \n",
       "87235            7 pages, 5 figures, accepted by Astron. J  \n",
       "803005                                 16 pages, 8 figures  "
      ]
     },
     "execution_count": 3,
     "metadata": {},
     "output_type": "execute_result"
    }
   ],
   "source": [
    "data.sample(5)"
   ]
  },
  {
   "cell_type": "markdown",
   "metadata": {},
   "source": [
    "### 提取页数"
   ]
  },
  {
   "cell_type": "code",
   "execution_count": 4,
   "metadata": {
    "ExecuteTime": {
     "end_time": "2021-01-19T16:20:05.762634Z",
     "start_time": "2021-01-19T16:20:01.570542Z"
    }
   },
   "outputs": [],
   "source": [
    "# 正则表达式匹配\n",
    "data['pages'] = data['comments'].apply(lambda x: re.findall('[1-9][0-9]* pages', str(x)))"
   ]
  },
  {
   "cell_type": "code",
   "execution_count": 5,
   "metadata": {
    "ExecuteTime": {
     "end_time": "2021-01-19T16:20:07.598315Z",
     "start_time": "2021-01-19T16:20:05.764681Z"
    }
   },
   "outputs": [],
   "source": [
    "# 筛选出有pages的论文\n",
    "data = data[data['pages'].apply(len) > 0].reset_index(drop=True)"
   ]
  },
  {
   "cell_type": "code",
   "execution_count": 6,
   "metadata": {
    "ExecuteTime": {
     "end_time": "2021-01-19T16:20:07.646468Z",
     "start_time": "2021-01-19T16:20:07.599278Z"
    }
   },
   "outputs": [
    {
     "data": {
      "text/plain": [
       "733560    [17 pages]\n",
       "800530     [2 pages]\n",
       "195511     [6 pages]\n",
       "Name: pages, dtype: object"
      ]
     },
     "execution_count": 6,
     "metadata": {},
     "output_type": "execute_result"
    }
   ],
   "source": [
    "data['pages'].sample(3)"
   ]
  },
  {
   "cell_type": "code",
   "execution_count": 7,
   "metadata": {
    "ExecuteTime": {
     "end_time": "2021-01-19T16:20:08.729538Z",
     "start_time": "2021-01-19T16:20:07.647433Z"
    }
   },
   "outputs": [],
   "source": [
    "# 将pages转为数字\n",
    "data['pages'] = data['pages'].apply(lambda x: float(x[0].replace(' pages','')))"
   ]
  },
  {
   "cell_type": "code",
   "execution_count": 8,
   "metadata": {
    "ExecuteTime": {
     "end_time": "2021-01-19T16:20:08.776165Z",
     "start_time": "2021-01-19T16:20:08.731535Z"
    }
   },
   "outputs": [
    {
     "data": {
      "text/plain": [
       "135752    46.0\n",
       "853943     5.0\n",
       "686831     5.0\n",
       "Name: pages, dtype: float64"
      ]
     },
     "execution_count": 8,
     "metadata": {},
     "output_type": "execute_result"
    }
   ],
   "source": [
    "data['pages'].sample(3)"
   ]
  },
  {
   "cell_type": "markdown",
   "metadata": {},
   "source": [
    "统计页数的基本情况："
   ]
  },
  {
   "cell_type": "code",
   "execution_count": 9,
   "metadata": {
    "ExecuteTime": {
     "end_time": "2021-01-19T16:20:08.834978Z",
     "start_time": "2021-01-19T16:20:08.778116Z"
    }
   },
   "outputs": [
    {
     "data": {
      "text/plain": [
       "count    1.089180e+06\n",
       "mean     1.762137e+01\n",
       "std      2.245700e+01\n",
       "min      1.000000e+00\n",
       "25%      8.000000e+00\n",
       "50%      1.300000e+01\n",
       "75%      2.200000e+01\n",
       "max      1.123200e+04\n",
       "Name: pages, dtype: float64"
      ]
     },
     "execution_count": 9,
     "metadata": {},
     "output_type": "execute_result"
    }
   ],
   "source": [
    "data['pages'].describe()"
   ]
  },
  {
   "cell_type": "code",
   "execution_count": 10,
   "metadata": {
    "ExecuteTime": {
     "end_time": "2021-01-19T16:20:08.890861Z",
     "start_time": "2021-01-19T16:20:08.836973Z"
    }
   },
   "outputs": [
    {
     "data": {
      "text/plain": [
       "count    1089180\n",
       "mean          17\n",
       "std           22\n",
       "min            1\n",
       "25%            8\n",
       "50%           13\n",
       "75%           22\n",
       "max        11232\n",
       "Name: pages, dtype: int32"
      ]
     },
     "execution_count": 10,
     "metadata": {},
     "output_type": "execute_result"
    }
   ],
   "source": [
    "# 上述显示效果不理想，转换为整数表示（注意上面是一个Series）\n",
    "data['pages'].describe().astype(int)"
   ]
  },
  {
   "cell_type": "markdown",
   "metadata": {},
   "source": [
    "分类统计页数情况。"
   ]
  },
  {
   "cell_type": "code",
   "execution_count": 11,
   "metadata": {
    "ExecuteTime": {
     "end_time": "2021-01-19T16:20:09.643860Z",
     "start_time": "2021-01-19T16:20:08.892823Z"
    }
   },
   "outputs": [],
   "source": [
    "# 提取论文第一个类别的主要类别\n",
    "data['categories'] = data['categories'].apply(lambda x: x.split(' ')[0].split('.')[0])"
   ]
  },
  {
   "cell_type": "code",
   "execution_count": 12,
   "metadata": {
    "ExecuteTime": {
     "end_time": "2021-01-19T16:20:10.189443Z",
     "start_time": "2021-01-19T16:20:09.645810Z"
    }
   },
   "outputs": [
    {
     "data": {
      "text/plain": [
       "<matplotlib.axes._subplots.AxesSubplot at 0x18e2fee3988>"
      ]
     },
     "execution_count": 12,
     "metadata": {},
     "output_type": "execute_result"
    },
    {
     "data": {
      "image/png": "[encoded data removed]",
      "text/plain": [
       "<Figure size 864x432 with 1 Axes>"
      ]
     },
     "metadata": {
      "needs_background": "light"
     },
     "output_type": "display_data"
    }
   ],
   "source": [
    "# 每类论文的平均页数\n",
    "plt.figure(figsize = (12,6))\n",
    "data.groupby(['categories'])['pages'].mean().plot(kind='bar')"
   ]
  },
  {
   "cell_type": "markdown",
   "metadata": {},
   "source": [
    "### 提取图表数"
   ]
  },
  {
   "cell_type": "code",
   "execution_count": 13,
   "metadata": {
    "ExecuteTime": {
     "end_time": "2021-01-19T16:20:13.110280Z",
     "start_time": "2021-01-19T16:20:10.190482Z"
    }
   },
   "outputs": [],
   "source": [
    "data['figures'] = data['comments'].apply(lambda x: re.findall('[1-9][0-9]* figures', str(x)))"
   ]
  },
  {
   "cell_type": "code",
   "execution_count": 14,
   "metadata": {
    "ExecuteTime": {
     "end_time": "2021-01-19T16:20:14.335135Z",
     "start_time": "2021-01-19T16:20:13.112149Z"
    }
   },
   "outputs": [],
   "source": [
    "data = data[data['figures'].apply(len)>0].reset_index(drop=True)"
   ]
  },
  {
   "cell_type": "code",
   "execution_count": 15,
   "metadata": {
    "ExecuteTime": {
     "end_time": "2021-01-19T16:20:14.972934Z",
     "start_time": "2021-01-19T16:20:14.336092Z"
    }
   },
   "outputs": [],
   "source": [
    "data['figures'] = data['figures'].apply(lambda x: float(x[0].replace(' figures','')))"
   ]
  },
  {
   "cell_type": "code",
   "execution_count": 16,
   "metadata": {
    "ExecuteTime": {
     "end_time": "2021-01-19T16:20:14.985868Z",
     "start_time": "2021-01-19T16:20:14.973945Z"
    }
   },
   "outputs": [
    {
     "data": {
      "text/html": [
       "<div>\n",
       "<style scoped>\n",
       "    .dataframe tbody tr th:only-of-type {\n",
       "        vertical-align: middle;\n",
       "    }\n",
       "\n",
       "    .dataframe tbody tr th {\n",
       "        vertical-align: top;\n",
       "    }\n",
       "\n",
       "    .dataframe thead th {\n",
       "        text-align: right;\n",
       "    }\n",
       "</style>\n",
       "<table border=\"1\" class=\"dataframe\">\n",
       "  <thead>\n",
       "    <tr style=\"text-align: right;\">\n",
       "      <th></th>\n",
       "      <th>id</th>\n",
       "      <th>abstract</th>\n",
       "      <th>categories</th>\n",
       "      <th>comments</th>\n",
       "      <th>pages</th>\n",
       "      <th>figures</th>\n",
       "    </tr>\n",
       "  </thead>\n",
       "  <tbody>\n",
       "    <tr>\n",
       "      <th>0</th>\n",
       "      <td>0704.0001</td>\n",
       "      <td>A fully differential calculation in perturba...</td>\n",
       "      <td>hep-ph</td>\n",
       "      <td>37 pages, 15 figures; published version</td>\n",
       "      <td>37.0</td>\n",
       "      <td>15.0</td>\n",
       "    </tr>\n",
       "    <tr>\n",
       "      <th>1</th>\n",
       "      <td>0704.0003</td>\n",
       "      <td>The evolution of Earth-Moon system is descri...</td>\n",
       "      <td>physics</td>\n",
       "      <td>23 pages, 3 figures</td>\n",
       "      <td>23.0</td>\n",
       "      <td>3.0</td>\n",
       "    </tr>\n",
       "    <tr>\n",
       "      <th>2</th>\n",
       "      <td>0704.0006</td>\n",
       "      <td>We study the two-particle wave function of p...</td>\n",
       "      <td>cond-mat</td>\n",
       "      <td>6 pages, 4 figures, accepted by PRA</td>\n",
       "      <td>6.0</td>\n",
       "      <td>4.0</td>\n",
       "    </tr>\n",
       "  </tbody>\n",
       "</table>\n",
       "</div>"
      ],
      "text/plain": [
       "          id                                           abstract categories  \\\n",
       "0  0704.0001    A fully differential calculation in perturba...     hep-ph   \n",
       "1  0704.0003    The evolution of Earth-Moon system is descri...    physics   \n",
       "2  0704.0006    We study the two-particle wave function of p...   cond-mat   \n",
       "\n",
       "                                  comments  pages  figures  \n",
       "0  37 pages, 15 figures; published version   37.0     15.0  \n",
       "1                      23 pages, 3 figures   23.0      3.0  \n",
       "2      6 pages, 4 figures, accepted by PRA    6.0      4.0  "
      ]
     },
     "execution_count": 16,
     "metadata": {},
     "output_type": "execute_result"
    }
   ],
   "source": [
    "data.head(3)"
   ]
  },
  {
   "cell_type": "markdown",
   "metadata": {},
   "source": [
    "### 代码链接抽取 "
   ]
  },
  {
   "cell_type": "code",
   "execution_count": 17,
   "metadata": {
    "ExecuteTime": {
     "end_time": "2021-01-19T16:20:16.469776Z",
     "start_time": "2021-01-19T16:20:14.987374Z"
    }
   },
   "outputs": [],
   "source": [
    "# 筛选包含github的论文\n",
    "data_with_code = data[\n",
    "    (data.comments.str.contains('github')==True)|\n",
    "                      (data.abstract.str.contains('github')==True)\n",
    "].reset_index(drop=True)\n",
    "data_with_code['text'] = data_with_code['abstract'].fillna('') + data_with_code['comments'].fillna('')\n"
   ]
  },
  {
   "cell_type": "code",
   "execution_count": 18,
   "metadata": {
    "ExecuteTime": {
     "end_time": "2021-01-19T16:20:16.605334Z",
     "start_time": "2021-01-19T16:20:16.471580Z"
    }
   },
   "outputs": [],
   "source": [
    "# 使用正则表达式匹配论文\n",
    "pattern = '[a-zA-z]+://github[^\\s]*'\n",
    "data_with_code['code_flag'] = data_with_code['text'].str.findall(pattern).apply(len)"
   ]
  },
  {
   "cell_type": "markdown",
   "metadata": {},
   "source": [
    "对论文按照类别绘图： "
   ]
  },
  {
   "cell_type": "code",
   "execution_count": 19,
   "metadata": {
    "ExecuteTime": {
     "end_time": "2021-01-19T16:20:16.843588Z",
     "start_time": "2021-01-19T16:20:16.606220Z"
    }
   },
   "outputs": [
    {
     "data": {
      "text/plain": [
       "<matplotlib.axes._subplots.AxesSubplot at 0x18e10fc9b48>"
      ]
     },
     "execution_count": 19,
     "metadata": {},
     "output_type": "execute_result"
    },
    {
     "data": {
      "image/png": "[encoded data removed]",
      "text/plain": [
       "<Figure size 864x432 with 1 Axes>"
      ]
     },
     "metadata": {
      "needs_background": "light"
     },
     "output_type": "display_data"
    }
   ],
   "source": [
    "data_with_code = data_with_code[data_with_code['code_flag'] == 1]\n",
    "plt.figure(figsize=(12, 6))\n",
    "data_with_code.groupby(['categories'])['code_flag'].count().plot(kind='bar')"
   ]
  }
 ],
 "metadata": {
  "kernelspec": {
   "display_name": "Python 3",
   "language": "python",
   "name": "python3"
  },
  "language_info": {
   "codemirror_mode": {
    "name": "ipython",
    "version": 3
   },
   "file_extension": ".py",
   "mimetype": "text/x-python",
   "name": "python",
   "nbconvert_exporter": "python",
   "pygments_lexer": "ipython3",
   "version": "3.7.4"
  },
  "toc": {
   "base_numbering": 1,
   "nav_menu": {},
   "number_sections": true,
   "sideBar": true,
   "skip_h1_title": false,
   "title_cell": "Table of Contents",
   "title_sidebar": "Contents",
   "toc_cell": false,
   "toc_position": {},
   "toc_section_display": true,
   "toc_window_display": false
  },
  "varInspector": {
   "cols": {
    "lenName": 16,
    "lenType": 16,
    "lenVar": 40
   },
   "kernels_config": {
    "python": {
     "delete_cmd_postfix": "",
     "delete_cmd_prefix": "del ",
     "library": "var_list.py",
     "varRefreshCmd": "print(var_dic_list())"
    },
    "r": {
     "delete_cmd_postfix": ") ",
     "delete_cmd_prefix": "rm(",
     "library": "var_list.r",
     "varRefreshCmd": "cat(var_dic_list()) "
    }
   },
   "types_to_exclude": [
    "module",
    "function",
    "builtin_function_or_method",
    "instance",
    "_Feature"
   ],
   "window_display": false
  }
 },
 "nbformat": 4,
 "nbformat_minor": 2
}
